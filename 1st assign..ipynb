{
 "cells": [
  {
   "cell_type": "code",
   "execution_count": null,
   "id": "a50e6545-a1c7-4449-92ca-6a519ff6576b",
   "metadata": {},
   "outputs": [],
   "source": [
    "#Q.1.explain the key features of Python that make it a popular choice for programming?\n",
    "\n",
    "#ans. Python is ease of learning.\n",
    "#     it is widely used in industries.\n",
    "#    it has a lot of libraries.\n",
    "#    it has huge active community etc.\n",
    "     \n",
    "#     that's why\n",
    "#     it is very popular language among the developers now."
   ]
  },
  {
   "cell_type": "code",
   "execution_count": null,
   "id": "89da75df-496e-4789-9839-f4e904d62c75",
   "metadata": {},
   "outputs": [],
   "source": [
    "#Q.2. Describe the role of predefined keywords in Python and provide examples of how they are used in a\n",
    "#program?\n",
    "\n",
    "#ans. keywords are predefined words that hold a special meaning and have specific purpose. \n",
    "#    keywords are used to define the syntax of the coding.\n",
    "#   the keywords can not be used as an identifier,function or variable name\n",
    "     \n",
    "#     examples are:\n",
    "#    break:  break is used to terminate an active loop.\n",
    "#    if and else are used in conditional statements \n",
    "#    continue : this keywor skips the current iteration of a loop and proceeds to the next one. \n",
    "\n"
   ]
  },
  {
   "cell_type": "code",
   "execution_count": null,
   "id": "b48601ce-3942-4c9c-82e4-dacb7a775e0e",
   "metadata": {},
   "outputs": [],
   "source": [
    "#Q.3.Compare and contrast mutable and immutable objects in Python with examples\n",
    "\n",
    "#ANS. The most immortant difference between mutable and immutable objects is that mutable objects can be modified after their creation but the immutable objects can not be modified after their creation.\n",
    "\n",
    "#examples of mutable objets are sets, list, dictionary\n",
    "#xamples of immutable objects are tuples , string.\n",
    "\n"
   ]
  },
  {
   "cell_type": "code",
   "execution_count": null,
   "id": "9dcfcb8a-3b41-4475-ae8c-918087433bd0",
   "metadata": {},
   "outputs": [],
   "source": [
    "#Q.4 Discuss the different types of operators in Python and provide examples of how they are used\n",
    "\n",
    "#Ans. operators are of many types: Arithmatic operator  (+  -  *  /  %  **)\n",
    "#                                 comparison operator  ( ==, !=, <, >, <=, >= )\n",
    "#                                 logical operator  (and, or , not)\n",
    "#                                  bitwise operators  (& ,|, ~, ^, <<, >>)\n",
    "#                                 assignment opertors  (=, +=, -=, *=, /=)\n",
    "#                                 membership operators \n",
    "#                                 identity operators\n",
    "                                  "
   ]
  },
  {
   "cell_type": "code",
   "execution_count": 3,
   "id": "c0960ad2-95bd-4fff-b9c6-afb4049d4f73",
   "metadata": {},
   "outputs": [],
   "source": [
    "# this is arithmatic example\n",
    "a = 3\n",
    "b = 5\n"
   ]
  },
  {
   "cell_type": "code",
   "execution_count": 4,
   "id": "8dde43aa-ca1e-44e2-b2d5-560c6aa86f95",
   "metadata": {},
   "outputs": [
    {
     "data": {
      "text/plain": [
       "8"
      ]
     },
     "execution_count": 4,
     "metadata": {},
     "output_type": "execute_result"
    }
   ],
   "source": [
    "a+b"
   ]
  },
  {
   "cell_type": "code",
   "execution_count": 5,
   "id": "11feeeab-8d88-498d-9f9e-621914e78479",
   "metadata": {},
   "outputs": [
    {
     "data": {
      "text/plain": [
       "True"
      ]
     },
     "execution_count": 5,
     "metadata": {},
     "output_type": "execute_result"
    }
   ],
   "source": [
    "# this is comparison opertors\n",
    "2==2"
   ]
  },
  {
   "cell_type": "code",
   "execution_count": 6,
   "id": "0bdf2078-cf0e-443a-9369-8794e2225e62",
   "metadata": {},
   "outputs": [
    {
     "data": {
      "text/plain": [
       "True"
      ]
     },
     "execution_count": 6,
     "metadata": {},
     "output_type": "execute_result"
    }
   ],
   "source": [
    "5!=2\n"
   ]
  },
  {
   "cell_type": "code",
   "execution_count": 8,
   "id": "7d0d3285-9e66-41a7-a5c9-f87f9ca5e7c4",
   "metadata": {},
   "outputs": [
    {
     "data": {
      "text/plain": [
       "True"
      ]
     },
     "execution_count": 8,
     "metadata": {},
     "output_type": "execute_result"
    }
   ],
   "source": [
    "#this is logical opertors\n",
    "True and True"
   ]
  },
  {
   "cell_type": "raw",
   "id": "b9f463d3-24f3-4d5a-8f5d-00e57e6b4da0",
   "metadata": {},
   "source": []
  },
  {
   "cell_type": "code",
   "execution_count": 9,
   "id": "870486d3-8f31-4990-975b-ece23d80acfe",
   "metadata": {},
   "outputs": [
    {
     "data": {
      "text/plain": [
       "1"
      ]
     },
     "execution_count": 9,
     "metadata": {},
     "output_type": "execute_result"
    }
   ],
   "source": [
    "True-False"
   ]
  },
  {
   "cell_type": "code",
   "execution_count": null,
   "id": "b3fd424c-ebe5-4fb1-9b7b-40b5f33ea3fb",
   "metadata": {},
   "outputs": [],
   "source": [
    "#Q.5. explain the concept of type casting in Python with examples\n",
    "\n",
    "#Ans. the process of changing the data type of a value/ objects in python is known as type casting\n",
    "#    Type Casting is often necessary for performing arithmatic op. ,data manipulation and input/ output op. in python program.\n",
    "    \n",
    "#    examples of type casting is "
   ]
  },
  {
   "cell_type": "code",
   "execution_count": 10,
   "id": "3bc02444-5aa7-4003-b4d9-6a33640b0da7",
   "metadata": {},
   "outputs": [
    {
     "ename": "TypeError",
     "evalue": "can only concatenate str (not \"int\") to str",
     "output_type": "error",
     "traceback": [
      "\u001b[0;31m---------------------------------------------------------------------------\u001b[0m",
      "\u001b[0;31mTypeError\u001b[0m                                 Traceback (most recent call last)",
      "Cell \u001b[0;32mIn[10], line 1\u001b[0m\n\u001b[0;32m----> 1\u001b[0m \u001b[38;5;124;43m\"\u001b[39;49m\u001b[38;5;124;43m2\u001b[39;49m\u001b[38;5;124;43m\"\u001b[39;49m\u001b[38;5;241;43m+\u001b[39;49m\u001b[38;5;241;43m3\u001b[39;49m\n",
      "\u001b[0;31mTypeError\u001b[0m: can only concatenate str (not \"int\") to str"
     ]
    }
   ],
   "source": [
    "\"2\"+3"
   ]
  },
  {
   "cell_type": "code",
   "execution_count": null,
   "id": "bffdb59e-ef6a-41d1-828f-a925bcec08c7",
   "metadata": {},
   "outputs": [],
   "source": [
    "#we have to convert str to int first"
   ]
  },
  {
   "cell_type": "code",
   "execution_count": 15,
   "id": "34414228-9ab6-4a67-a091-256362d8dfd8",
   "metadata": {},
   "outputs": [
    {
     "data": {
      "text/plain": [
       "str"
      ]
     },
     "execution_count": 15,
     "metadata": {},
     "output_type": "execute_result"
    }
   ],
   "source": [
    "type (\"2\")"
   ]
  },
  {
   "cell_type": "code",
   "execution_count": 17,
   "id": "91ed19a1-46e4-4e67-be34-ea6d7b057603",
   "metadata": {},
   "outputs": [
    {
     "name": "stdout",
     "output_type": "stream",
     "text": [
      "<class 'int'>\n"
     ]
    }
   ],
   "source": [
    "print(type (int (\"2\")))"
   ]
  },
  {
   "cell_type": "code",
   "execution_count": 18,
   "id": "645d0184-80f6-43d1-a5a3-a6b60cba45de",
   "metadata": {},
   "outputs": [
    {
     "data": {
      "text/plain": [
       "int"
      ]
     },
     "execution_count": 18,
     "metadata": {},
     "output_type": "execute_result"
    }
   ],
   "source": [
    "type (2)"
   ]
  },
  {
   "cell_type": "code",
   "execution_count": null,
   "id": "312b1f07-fc46-4725-941b-9b5fbe77c5c1",
   "metadata": {},
   "outputs": [],
   "source": [
    "#we can convert float to integers\n",
    "#we can convert integers to float\n",
    "#and so on..\n"
   ]
  },
  {
   "cell_type": "code",
   "execution_count": null,
   "id": "ddb85d63-d1f0-40e8-ba5b-58599eea9231",
   "metadata": {},
   "outputs": [],
   "source": [
    "#Q.6. How do conditional statements work in Python? Illustrate with examples\n",
    "\n",
    "#Ans. conditional statements are statements in python that provide a choice for the control flow based on a condition,\n",
    "#it helps to code decision based on some preconditions \n",
    "\n",
    "#examples are : if, if else, if elif,nested if else\n"
   ]
  },
  {
   "cell_type": "code",
   "execution_count": 20,
   "id": "ed37f8c8-d554-4d14-9347-37347bde6f5f",
   "metadata": {},
   "outputs": [
    {
     "name": "stdout",
     "output_type": "stream",
     "text": [
      "a is greater than 0\n"
     ]
    }
   ],
   "source": [
    "#if statement\n",
    "a = 100\n",
    "if a > 0:\n",
    "    print ( \"a is greater than 0\")"
   ]
  },
  {
   "cell_type": "code",
   "execution_count": 21,
   "id": "7a31200d-a1a9-4c08-88f9-fb95e7469f54",
   "metadata": {},
   "outputs": [
    {
     "name": "stdout",
     "output_type": "stream",
     "text": [
      "i have to stay in room\n"
     ]
    }
   ],
   "source": [
    "#if else statement\n",
    "weather = \"rainy\"\n",
    "if weather == \"sunny\":\n",
    "    print (\" i will enjoying outside\")\n",
    "else :\n",
    "    print (\"i have to stay in room\")\n",
    "    "
   ]
  },
  {
   "cell_type": "code",
   "execution_count": 22,
   "id": "117fffc4-da0e-485e-b359-1a072f1e82af",
   "metadata": {},
   "outputs": [
    {
     "name": "stdout",
     "output_type": "stream",
     "text": [
      "x is not greater than 5\n"
     ]
    }
   ],
   "source": [
    "#nested if else\n",
    "x = 1\n",
    "y = 6\n",
    "if x >5:\n",
    "    if y >5:\n",
    "        print (\"x and y are greater than 5\")\n",
    "    else:\n",
    "        print (\"x is greater than 5 but y is less than 5\")\n",
    "else:\n",
    "    print (\"x is not greater than 5\")"
   ]
  },
  {
   "cell_type": "code",
   "execution_count": null,
   "id": "28e78c31-fdc1-49dc-bb29-a3a2dcaffe8b",
   "metadata": {},
   "outputs": [],
   "source": [
    "#Q.7. Describe the different types of loops in Python and their use cases with examples.\n",
    "\n",
    "#Ans. loop statements allows you to execute a block of code repeatedly.\n",
    " #    loops are of two types : 1.while loop, 2. for loop\n",
    "     "
   ]
  },
  {
   "cell_type": "code",
   "execution_count": null,
   "id": "4fc1fd0c-8b24-481d-9b08-3b5fd3927a26",
   "metadata": {},
   "outputs": [],
   "source": [
    "# while loop : it is repeatedly executed a block of code untill a condition is false.\n",
    "\n"
   ]
  },
  {
   "cell_type": "code",
   "execution_count": 23,
   "id": "3c7d147f-53f8-47e2-971f-ccffa761e024",
   "metadata": {},
   "outputs": [
    {
     "name": "stdout",
     "output_type": "stream",
     "text": [
      "1\n",
      "2\n",
      "3\n",
      "4\n",
      "5\n",
      "6\n"
     ]
    }
   ],
   "source": [
    "n=7\n",
    "i=1\n",
    "while i<n:\n",
    "    print (i)\n",
    "    i= i+1"
   ]
  },
  {
   "cell_type": "code",
   "execution_count": null,
   "id": "473a86ad-1b66-4da5-abab-e36030d640a1",
   "metadata": {},
   "outputs": [],
   "source": [
    "#for loop : it is iterate over a sequence of elements "
   ]
  },
  {
   "cell_type": "code",
   "execution_count": 24,
   "id": "0c93ccb5-896c-4845-9a5a-ac5ae80f99e1",
   "metadata": {},
   "outputs": [
    {
     "name": "stdout",
     "output_type": "stream",
     "text": [
      "d\n",
      "a\n",
      "t\n",
      "a\n",
      " \n",
      "s\n",
      "c\n",
      "i\n",
      "e\n",
      "n\n",
      "c\n",
      "e\n"
     ]
    }
   ],
   "source": [
    "for i in \"data science\":\n",
    "    print (i)"
   ]
  },
  {
   "cell_type": "code",
   "execution_count": 25,
   "id": "ff8d2651-a567-42a1-b6fa-8114633b2f7f",
   "metadata": {},
   "outputs": [],
   "source": [
    "#break statement in for loop\n",
    "l=  [1, 2,\"name\",\"ram\"]"
   ]
  },
  {
   "cell_type": "code",
   "execution_count": 26,
   "id": "67f94e77-e07a-49a5-b318-f29712dae3a3",
   "metadata": {},
   "outputs": [
    {
     "name": "stdout",
     "output_type": "stream",
     "text": [
      "1\n",
      "2\n"
     ]
    }
   ],
   "source": [
    "for i in l:\n",
    "    if i == \"name\":\n",
    "        break\n",
    "    print (i)\n",
    "else:\n",
    "    print (\" this is a list\")\n",
    "    "
   ]
  },
  {
   "cell_type": "code",
   "execution_count": 27,
   "id": "e1ad2537-8678-4025-b490-2c18cff53e4b",
   "metadata": {},
   "outputs": [
    {
     "name": "stdout",
     "output_type": "stream",
     "text": [
      "1\n",
      "2\n",
      "this is a list\n"
     ]
    }
   ],
   "source": [
    "#continue statement\n",
    "for i in l:\n",
    "    if i == \"name\":\n",
    "        continue\n",
    "    print (i)\n",
    "else :\n",
    "    print (\"this is a list\")\n"
   ]
  },
  {
   "cell_type": "code",
   "execution_count": null,
   "id": "c7ffafaa-a0ae-4484-9d0a-84ce81f15288",
   "metadata": {},
   "outputs": [],
   "source": []
  }
 ],
 "metadata": {
  "kernelspec": {
   "display_name": "Python 3 (ipykernel)",
   "language": "python",
   "name": "python3"
  },
  "language_info": {
   "codemirror_mode": {
    "name": "ipython",
    "version": 3
   },
   "file_extension": ".py",
   "mimetype": "text/x-python",
   "name": "python",
   "nbconvert_exporter": "python",
   "pygments_lexer": "ipython3",
   "version": "3.10.8"
  }
 },
 "nbformat": 4,
 "nbformat_minor": 5
}
